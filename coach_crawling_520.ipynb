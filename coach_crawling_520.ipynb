{
 "cells": [
  {
   "cell_type": "code",
   "execution_count": 89,
   "metadata": {},
   "outputs": [],
   "source": [
    "import requests\n",
    "from bs4 import BeautifulSoup\n",
    "import pandas as pd"
   ]
  },
  {
   "cell_type": "code",
   "execution_count": 90,
   "metadata": {},
   "outputs": [],
   "source": [
    "user_list = []\n",
    "\n",
    "for i,a in enumerate(range(13)):\n",
    "    #시즌 데이터를 모두 가져오기\n",
    "    for page in range(1,3):\n",
    "        #페이지당 20명, 2페이지 가져오기\n",
    "        url = 'http://fifaonline4.nexon.com/datacenter/rank?n4seasonno={}&n4pageno={}'\n",
    "        page_url = url.format(a+20, page)\n",
    "        r = requests.get(page_url)\n",
    "        soup = BeautifulSoup(r.text, 'lxml')\n",
    "        \n",
    "        for rank, rankers in enumerate(range(20)):\n",
    "            \n",
    "            user = soup.select('.list_wrap div:nth-of-type(3) .name.profile_pointer')[rank].text\n",
    "            user_list.append(user)"
   ]
  },
  {
   "cell_type": "code",
   "execution_count": 101,
   "metadata": {},
   "outputs": [],
   "source": [
    "pd.DataFrame(user_list).to_csv('user_list.csv',index=False)"
   ]
  }
 ],
 "metadata": {
  "kernelspec": {
   "display_name": "Python",
   "language": "python",
   "name": "python3"
  },
  "language_info": {
   "codemirror_mode": {
    "name": "ipython",
    "version": 3
   },
   "file_extension": ".py",
   "mimetype": "text/x-python",
   "name": "python",
   "nbconvert_exporter": "python",
   "pygments_lexer": "ipython3",
   "version": "3.7.9"
  },
  "toc": {
   "base_numbering": 1,
   "nav_menu": {},
   "number_sections": true,
   "sideBar": true,
   "skip_h1_title": false,
   "title_cell": "Table of Contents",
   "title_sidebar": "Contents",
   "toc_cell": false,
   "toc_position": {},
   "toc_section_display": true,
   "toc_window_display": false
  }
 },
 "nbformat": 4,
 "nbformat_minor": 4
}
